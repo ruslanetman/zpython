{
 "cells": [
  {
   "cell_type": "code",
   "execution_count": null,
   "metadata": {},
   "outputs": [],
   "source": [
    "def digit_sum(n):\n",
    "    n = str(n)\n",
    "    Sum = 0\n",
    "    i = 0\n",
    "    while i<len(n):\n",
    "        Sum = Sum + int(n[i])\n",
    "        i+=1\n",
    "    return Sum\n",
    "\n",
    "number = 942\n",
    "digit_sum(number)\n",
    "print('----------------------------')\n",
    "number = 345234\n",
    "digit_sum(number)\n",
    "print('----------------------------')\n",
    "number = 493193\n",
    "digit_sum(number)"
   ]
  }
 ],
 "metadata": {
  "kernelspec": {
   "display_name": "Python 3",
   "language": "python",
   "name": "python3"
  },
  "language_info": {
   "codemirror_mode": {
    "name": "ipython",
    "version": 3
   },
   "file_extension": ".py",
   "mimetype": "text/x-python",
   "name": "python",
   "nbconvert_exporter": "python",
   "pygments_lexer": "ipython3",
   "version": "3.7.0"
  }
 },
 "nbformat": 4,
 "nbformat_minor": 2
}
