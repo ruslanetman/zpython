{
 "cells": [
  {
   "cell_type": "code",
   "execution_count": 10,
   "metadata": {},
   "outputs": [
    {
     "name": "stdout",
     "output_type": "stream",
     "text": [
      "15\n",
      "6\n",
      "----------------------------\n",
      "21\n",
      "3\n",
      "----------------------------\n",
      "29\n",
      "11\n",
      "2\n"
     ]
    }
   ],
   "source": [
    "def digit_sum(n):\n",
    "    n = str(n)\n",
    "    sum = 0\n",
    "    i = 0\n",
    "    while i<len(n):\n",
    "        sum += int(n[i])\n",
    "        i+=1\n",
    "    print (sum)\n",
    "    if len(str(sum))>1:\n",
    "        digit_sum(sum)\n",
    "\n",
    "number = 942\n",
    "digit_sum(number)\n",
    "print('----------------------------')\n",
    "number = 345234\n",
    "digit_sum(number)\n",
    "print('----------------------------')\n",
    "number = 493193\n",
    "digit_sum(number)"
   ]
  }
 ],
 "metadata": {
  "kernelspec": {
   "display_name": "Python 3",
   "language": "python",
   "name": "python3"
  },
  "language_info": {
   "codemirror_mode": {
    "name": "ipython",
    "version": 3
   },
   "file_extension": ".py",
   "mimetype": "text/x-python",
   "name": "python",
   "nbconvert_exporter": "python",
   "pygments_lexer": "ipython3",
   "version": "3.6.6"
  }
 },
 "nbformat": 4,
 "nbformat_minor": 2
}
